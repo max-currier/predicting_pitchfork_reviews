{
 "cells": [
  {
   "cell_type": "markdown",
   "metadata": {},
   "source": [
    "# Pitchfork Data"
   ]
  },
  {
   "cell_type": "markdown",
   "metadata": {},
   "source": [
    "I will be examining [this SQLite database](https://www.kaggle.com/nolanbconaway/pitchfork-data) that a Kaggle user scraped from Pitchfork.com that includes info about all the records they have reviewed as recently as 2017. I am using the sqlite3 module to access the database in this notebook. For more info, check out [this article](https://datacarpentry.org/python-ecology-lesson/09-working-with-sql/index.html) for a good overview of sqlite3 module's basic functionality. "
   ]
  },
  {
   "cell_type": "markdown",
   "metadata": {},
   "source": [
    "## Importing Data"
   ]
  },
  {
   "cell_type": "code",
   "execution_count": 2,
   "metadata": {},
   "outputs": [],
   "source": [
    "import sqlite3\n",
    "\n",
    "import pandas as pd\n",
    "import numpy as np\n",
    "\n",
    "import matplotlib.pyplot as plt\n",
    "import seaborn as sns"
   ]
  },
  {
   "cell_type": "markdown",
   "metadata": {},
   "source": [
    "Here's a breakdown of the tables and columns from the pitchfork database."
   ]
  },
  {
   "cell_type": "markdown",
   "metadata": {},
   "source": [
    "#### Tables:\n",
    "* artists\n",
    "    * reviewid\n",
    "    * artist\n",
    "* content\n",
    "    * reviewid\n",
    "    * content\n",
    "* genres\n",
    "    * reviewid\n",
    "    * genre\n",
    "* labels\n",
    "    * reviewid\n",
    "    * label\n",
    "* reviews\n",
    "    * reviewid\n",
    "    * title\n",
    "    * artist\n",
    "    * url\n",
    "    * score \n",
    "    * best_new_music\n",
    "    * author\n",
    "    * author_type\n",
    "    * pub_date\n",
    "    * pub_weekday\n",
    "    * pub_day\n",
    "    * pub_month\n",
    "    * pub_year\n",
    "* years\n",
    "    * reviewid\n",
    "    * year"
   ]
  },
  {
   "cell_type": "markdown",
   "metadata": {},
   "source": [
    "## How to use sqlite3"
   ]
  },
  {
   "cell_type": "code",
   "execution_count": 3,
   "metadata": {},
   "outputs": [],
   "source": [
    "# Create a SQL connection to our SQLite database\n",
    "\n",
    "con = sqlite3.connect('data/database.sqlite')\n",
    "cur = con.cursor()"
   ]
  },
  {
   "cell_type": "code",
   "execution_count": 4,
   "metadata": {},
   "outputs": [
    {
     "name": "stdout",
     "output_type": "stream",
     "text": [
      "(22703, 'mezzanine', 'massive attack', 'http://pitchfork.com/reviews/albums/22703-mezzanine/', 9.3, 0, 'nate patrin', 'contributor', '2017-01-08', 6, 8, 1, 2017)\n",
      "(22721, 'prelapsarian', 'krallice', 'http://pitchfork.com/reviews/albums/22721-prelapsarian/', 7.9, 0, 'zoe camp', 'contributor', '2017-01-07', 5, 7, 1, 2017)\n"
     ]
    }
   ],
   "source": [
    "# The result of a \"cursor.execute\" can be iterated over by row\n",
    "\n",
    "for row in cur.execute('SELECT * FROM reviews LIMIT 2;'):\n",
    "    print(row)"
   ]
  },
  {
   "cell_type": "code",
   "execution_count": 5,
   "metadata": {},
   "outputs": [
    {
     "name": "stdout",
     "output_type": "stream",
     "text": [
      "13\n",
      "<class 'tuple'>\n"
     ]
    }
   ],
   "source": [
    "# Return FIRST result of query AS TUPLE\n",
    "\n",
    "cur.execute('SELECT * FROM reviews WHERE score>7')\n",
    "test_query1 = cur.fetchone()\n",
    "\n",
    "print(len(test_query1))    # this row of data has 13 columns\n",
    "print(type(test_query1))\n"
   ]
  },
  {
   "cell_type": "code",
   "execution_count": 6,
   "metadata": {},
   "outputs": [
    {
     "name": "stdout",
     "output_type": "stream",
     "text": [
      "10315\n",
      "<class 'list'>\n"
     ]
    }
   ],
   "source": [
    "# Return ALL results of query AS LIST\n",
    "\n",
    "cur.execute(\"SELECT * FROM reviews WHERE score>7\")\n",
    "test_query2 = cur.fetchall()\n",
    "\n",
    "print(len(test_query2))    # list of tuples, one tuple for each row\n",
    "print(type(test_query2))"
   ]
  },
  {
   "cell_type": "code",
   "execution_count": 7,
   "metadata": {},
   "outputs": [
    {
     "name": "stdout",
     "output_type": "stream",
     "text": [
      "10315\n",
      "<class 'pandas.core.frame.DataFrame'>\n"
     ]
    }
   ],
   "source": [
    "# Return ALL results of query AS DATAFRAME\n",
    "\n",
    "test_query2 = pd.read_sql_query(\"SELECT * FROM reviews WHERE score>7\", con) # con is connection object established earlier\n",
    "\n",
    "print(len(test_query2))    # each row as row in df\n",
    "print(type(test_query2))"
   ]
  },
  {
   "cell_type": "code",
   "execution_count": 8,
   "metadata": {},
   "outputs": [
    {
     "data": {
      "text/html": [
       "<div>\n",
       "<style scoped>\n",
       "    .dataframe tbody tr th:only-of-type {\n",
       "        vertical-align: middle;\n",
       "    }\n",
       "\n",
       "    .dataframe tbody tr th {\n",
       "        vertical-align: top;\n",
       "    }\n",
       "\n",
       "    .dataframe thead th {\n",
       "        text-align: right;\n",
       "    }\n",
       "</style>\n",
       "<table border=\"1\" class=\"dataframe\">\n",
       "  <thead>\n",
       "    <tr style=\"text-align: right;\">\n",
       "      <th></th>\n",
       "      <th>reviewid</th>\n",
       "      <th>title</th>\n",
       "      <th>artist</th>\n",
       "      <th>url</th>\n",
       "      <th>score</th>\n",
       "      <th>best_new_music</th>\n",
       "      <th>author</th>\n",
       "      <th>author_type</th>\n",
       "      <th>pub_date</th>\n",
       "      <th>pub_weekday</th>\n",
       "      <th>pub_day</th>\n",
       "      <th>pub_month</th>\n",
       "      <th>pub_year</th>\n",
       "    </tr>\n",
       "  </thead>\n",
       "  <tbody>\n",
       "    <tr>\n",
       "      <th>0</th>\n",
       "      <td>22703</td>\n",
       "      <td>mezzanine</td>\n",
       "      <td>massive attack</td>\n",
       "      <td>http://pitchfork.com/reviews/albums/22703-mezz...</td>\n",
       "      <td>9.3</td>\n",
       "      <td>0</td>\n",
       "      <td>nate patrin</td>\n",
       "      <td>contributor</td>\n",
       "      <td>2017-01-08</td>\n",
       "      <td>6</td>\n",
       "      <td>8</td>\n",
       "      <td>1</td>\n",
       "      <td>2017</td>\n",
       "    </tr>\n",
       "    <tr>\n",
       "      <th>1</th>\n",
       "      <td>22721</td>\n",
       "      <td>prelapsarian</td>\n",
       "      <td>krallice</td>\n",
       "      <td>http://pitchfork.com/reviews/albums/22721-prel...</td>\n",
       "      <td>7.9</td>\n",
       "      <td>0</td>\n",
       "      <td>zoe camp</td>\n",
       "      <td>contributor</td>\n",
       "      <td>2017-01-07</td>\n",
       "      <td>5</td>\n",
       "      <td>7</td>\n",
       "      <td>1</td>\n",
       "      <td>2017</td>\n",
       "    </tr>\n",
       "    <tr>\n",
       "      <th>2</th>\n",
       "      <td>22659</td>\n",
       "      <td>all of them naturals</td>\n",
       "      <td>uranium club</td>\n",
       "      <td>http://pitchfork.com/reviews/albums/22659-all-...</td>\n",
       "      <td>7.3</td>\n",
       "      <td>0</td>\n",
       "      <td>david glickman</td>\n",
       "      <td>contributor</td>\n",
       "      <td>2017-01-07</td>\n",
       "      <td>5</td>\n",
       "      <td>7</td>\n",
       "      <td>1</td>\n",
       "      <td>2017</td>\n",
       "    </tr>\n",
       "  </tbody>\n",
       "</table>\n",
       "</div>"
      ],
      "text/plain": [
       "   reviewid                 title          artist  \\\n",
       "0     22703             mezzanine  massive attack   \n",
       "1     22721          prelapsarian        krallice   \n",
       "2     22659  all of them naturals    uranium club   \n",
       "\n",
       "                                                 url  score  best_new_music  \\\n",
       "0  http://pitchfork.com/reviews/albums/22703-mezz...    9.3               0   \n",
       "1  http://pitchfork.com/reviews/albums/22721-prel...    7.9               0   \n",
       "2  http://pitchfork.com/reviews/albums/22659-all-...    7.3               0   \n",
       "\n",
       "           author  author_type    pub_date  pub_weekday  pub_day  pub_month  \\\n",
       "0     nate patrin  contributor  2017-01-08            6        8          1   \n",
       "1        zoe camp  contributor  2017-01-07            5        7          1   \n",
       "2  david glickman  contributor  2017-01-07            5        7          1   \n",
       "\n",
       "   pub_year  \n",
       "0      2017  \n",
       "1      2017  \n",
       "2      2017  "
      ]
     },
     "execution_count": 8,
     "metadata": {},
     "output_type": "execute_result"
    }
   ],
   "source": [
    "test_query2.head(3)"
   ]
  },
  {
   "cell_type": "code",
   "execution_count": 9,
   "metadata": {},
   "outputs": [],
   "source": [
    "# Be sure to close the connection\n",
    "\n",
    "con.close()"
   ]
  },
  {
   "cell_type": "markdown",
   "metadata": {},
   "source": [
    "## EDA"
   ]
  },
  {
   "cell_type": "code",
   "execution_count": 10,
   "metadata": {},
   "outputs": [],
   "source": [
    "# Create a SQL connection to our SQLite database\n",
    "\n",
    "con = sqlite3.connect('data/database.sqlite')\n",
    "cur = con.cursor()"
   ]
  },
  {
   "cell_type": "code",
   "execution_count": 11,
   "metadata": {},
   "outputs": [],
   "source": [
    "review_df = pd.read_sql_query(\"SELECT * FROM reviews\", con, parse_dates={'pub_date':'%Y-%m-%d'})"
   ]
  },
  {
   "cell_type": "code",
   "execution_count": 12,
   "metadata": {},
   "outputs": [
    {
     "name": "stdout",
     "output_type": "stream",
     "text": [
      "<class 'pandas.core.frame.DataFrame'>\n",
      "RangeIndex: 18393 entries, 0 to 18392\n",
      "Data columns (total 13 columns):\n",
      " #   Column          Non-Null Count  Dtype         \n",
      "---  ------          --------------  -----         \n",
      " 0   reviewid        18393 non-null  int64         \n",
      " 1   title           18393 non-null  object        \n",
      " 2   artist          18393 non-null  object        \n",
      " 3   url             18393 non-null  object        \n",
      " 4   score           18393 non-null  float64       \n",
      " 5   best_new_music  18393 non-null  int64         \n",
      " 6   author          18393 non-null  object        \n",
      " 7   author_type     14487 non-null  object        \n",
      " 8   pub_date        18393 non-null  datetime64[ns]\n",
      " 9   pub_weekday     18393 non-null  int64         \n",
      " 10  pub_day         18393 non-null  int64         \n",
      " 11  pub_month       18393 non-null  int64         \n",
      " 12  pub_year        18393 non-null  int64         \n",
      "dtypes: datetime64[ns](1), float64(1), int64(6), object(5)\n",
      "memory usage: 1.8+ MB\n"
     ]
    }
   ],
   "source": [
    "review_df.info()"
   ]
  },
  {
   "cell_type": "code",
   "execution_count": 13,
   "metadata": {},
   "outputs": [
    {
     "data": {
      "text/html": [
       "<div>\n",
       "<style scoped>\n",
       "    .dataframe tbody tr th:only-of-type {\n",
       "        vertical-align: middle;\n",
       "    }\n",
       "\n",
       "    .dataframe tbody tr th {\n",
       "        vertical-align: top;\n",
       "    }\n",
       "\n",
       "    .dataframe thead th {\n",
       "        text-align: right;\n",
       "    }\n",
       "</style>\n",
       "<table border=\"1\" class=\"dataframe\">\n",
       "  <thead>\n",
       "    <tr style=\"text-align: right;\">\n",
       "      <th></th>\n",
       "      <th>reviewid</th>\n",
       "      <th>score</th>\n",
       "      <th>best_new_music</th>\n",
       "      <th>pub_weekday</th>\n",
       "      <th>pub_day</th>\n",
       "      <th>pub_month</th>\n",
       "      <th>pub_year</th>\n",
       "    </tr>\n",
       "  </thead>\n",
       "  <tbody>\n",
       "    <tr>\n",
       "      <th>count</th>\n",
       "      <td>18393.000000</td>\n",
       "      <td>18393.000000</td>\n",
       "      <td>18393.000000</td>\n",
       "      <td>18393.000000</td>\n",
       "      <td>18393.000000</td>\n",
       "      <td>18393.000000</td>\n",
       "      <td>18393.000000</td>\n",
       "    </tr>\n",
       "    <tr>\n",
       "      <th>mean</th>\n",
       "      <td>12344.876529</td>\n",
       "      <td>7.005779</td>\n",
       "      <td>0.051270</td>\n",
       "      <td>2.106508</td>\n",
       "      <td>15.529006</td>\n",
       "      <td>6.283532</td>\n",
       "      <td>2008.678465</td>\n",
       "    </tr>\n",
       "    <tr>\n",
       "      <th>std</th>\n",
       "      <td>6318.857619</td>\n",
       "      <td>1.293675</td>\n",
       "      <td>0.220553</td>\n",
       "      <td>1.635406</td>\n",
       "      <td>8.757538</td>\n",
       "      <td>3.317349</td>\n",
       "      <td>4.626094</td>\n",
       "    </tr>\n",
       "    <tr>\n",
       "      <th>min</th>\n",
       "      <td>1.000000</td>\n",
       "      <td>0.000000</td>\n",
       "      <td>0.000000</td>\n",
       "      <td>0.000000</td>\n",
       "      <td>1.000000</td>\n",
       "      <td>1.000000</td>\n",
       "      <td>1999.000000</td>\n",
       "    </tr>\n",
       "    <tr>\n",
       "      <th>25%</th>\n",
       "      <td>7445.000000</td>\n",
       "      <td>6.400000</td>\n",
       "      <td>0.000000</td>\n",
       "      <td>1.000000</td>\n",
       "      <td>8.000000</td>\n",
       "      <td>3.000000</td>\n",
       "      <td>2005.000000</td>\n",
       "    </tr>\n",
       "    <tr>\n",
       "      <th>50%</th>\n",
       "      <td>12804.000000</td>\n",
       "      <td>7.200000</td>\n",
       "      <td>0.000000</td>\n",
       "      <td>2.000000</td>\n",
       "      <td>15.000000</td>\n",
       "      <td>6.000000</td>\n",
       "      <td>2009.000000</td>\n",
       "    </tr>\n",
       "    <tr>\n",
       "      <th>75%</th>\n",
       "      <td>17658.000000</td>\n",
       "      <td>7.800000</td>\n",
       "      <td>0.000000</td>\n",
       "      <td>3.000000</td>\n",
       "      <td>23.000000</td>\n",
       "      <td>9.000000</td>\n",
       "      <td>2013.000000</td>\n",
       "    </tr>\n",
       "    <tr>\n",
       "      <th>max</th>\n",
       "      <td>22745.000000</td>\n",
       "      <td>10.000000</td>\n",
       "      <td>1.000000</td>\n",
       "      <td>6.000000</td>\n",
       "      <td>31.000000</td>\n",
       "      <td>12.000000</td>\n",
       "      <td>2017.000000</td>\n",
       "    </tr>\n",
       "  </tbody>\n",
       "</table>\n",
       "</div>"
      ],
      "text/plain": [
       "           reviewid         score  best_new_music   pub_weekday       pub_day  \\\n",
       "count  18393.000000  18393.000000    18393.000000  18393.000000  18393.000000   \n",
       "mean   12344.876529      7.005779        0.051270      2.106508     15.529006   \n",
       "std     6318.857619      1.293675        0.220553      1.635406      8.757538   \n",
       "min        1.000000      0.000000        0.000000      0.000000      1.000000   \n",
       "25%     7445.000000      6.400000        0.000000      1.000000      8.000000   \n",
       "50%    12804.000000      7.200000        0.000000      2.000000     15.000000   \n",
       "75%    17658.000000      7.800000        0.000000      3.000000     23.000000   \n",
       "max    22745.000000     10.000000        1.000000      6.000000     31.000000   \n",
       "\n",
       "          pub_month      pub_year  \n",
       "count  18393.000000  18393.000000  \n",
       "mean       6.283532   2008.678465  \n",
       "std        3.317349      4.626094  \n",
       "min        1.000000   1999.000000  \n",
       "25%        3.000000   2005.000000  \n",
       "50%        6.000000   2009.000000  \n",
       "75%        9.000000   2013.000000  \n",
       "max       12.000000   2017.000000  "
      ]
     },
     "execution_count": 13,
     "metadata": {},
     "output_type": "execute_result"
    }
   ],
   "source": [
    "review_df.describe()"
   ]
  },
  {
   "cell_type": "code",
   "execution_count": 14,
   "metadata": {},
   "outputs": [],
   "source": [
    "# getting total reviews per year\n",
    "\n",
    "annual_reviews = pd.read_sql_query(\"SELECT pub_year, \\\n",
    "                                        count(reviewid) AS total_annual_reviews, \\\n",
    "                                        AVG(score) AS mean_yearly_score \\\n",
    "                                        FROM reviews \\\n",
    "                                        GROUP BY pub_year \\\n",
    "                                        ORDER BY pub_year ASC\", con, parse_dates={'pub_date':'%Y-%m-%d'})"
   ]
  },
  {
   "cell_type": "code",
   "execution_count": 15,
   "metadata": {},
   "outputs": [
    {
     "data": {
      "image/png": "[encoded data removed]",
      "text/plain": [
       "<Figure size 432x288 with 1 Axes>"
      ]
     },
     "metadata": {
      "needs_background": "light"
     },
     "output_type": "display_data"
    }
   ],
   "source": [
    "# plotting reviews for each year\n",
    "\n",
    "sns.lineplot(annual_reviews.pub_year, annual_reviews.total_annual_reviews)\n",
    "plt.suptitle('Reviews per Year')\n",
    "plt.xlabel('Year')\n",
    "plt.ylabel('Total Reviews');"
   ]
  },
  {
   "cell_type": "code",
   "execution_count": 16,
   "metadata": {},
   "outputs": [
    {
     "data": {
      "image/png": "[encoded data removed]",
      "text/plain": [
       "<Figure size 432x288 with 1 Axes>"
      ]
     },
     "metadata": {
      "needs_background": "light"
     },
     "output_type": "display_data"
    }
   ],
   "source": [
    "sns.lineplot(annual_reviews.pub_year, annual_reviews.mean_yearly_score)\n",
    "plt.suptitle('Mean Review Score by Year')\n",
    "plt.xlabel('Year')\n",
    "plt.ylabel('Mean Score');"
   ]
  },
  {
   "cell_type": "code",
   "execution_count": 17,
   "metadata": {},
   "outputs": [],
   "source": [
    "# OVERALL mean score and total review count for each genre\n",
    "\n",
    "\n",
    "genres_df = pd.read_sql_query(\"SELECT DISTINCT genres.genre, \\\n",
    "                                count(genres.reviewid) as total_reviews_per_genre, \\\n",
    "                                AVG(reviews.score) as mean_score_by_genre \\\n",
    "                                FROM genres  \\\n",
    "                                JOIN reviews ON genres.reviewid = reviews.reviewid \\\n",
    "                                GROUP BY genre \\\n",
    "                                ORDER BY count(genres.reviewid) DESC\", con)"
   ]
  },
  {
   "cell_type": "code",
   "execution_count": 18,
   "metadata": {},
   "outputs": [
    {
     "data": {
      "text/html": [
       "<div>\n",
       "<style scoped>\n",
       "    .dataframe tbody tr th:only-of-type {\n",
       "        vertical-align: middle;\n",
       "    }\n",
       "\n",
       "    .dataframe tbody tr th {\n",
       "        vertical-align: top;\n",
       "    }\n",
       "\n",
       "    .dataframe thead th {\n",
       "        text-align: right;\n",
       "    }\n",
       "</style>\n",
       "<table border=\"1\" class=\"dataframe\">\n",
       "  <thead>\n",
       "    <tr style=\"text-align: right;\">\n",
       "      <th></th>\n",
       "      <th>genre</th>\n",
       "      <th>total_reviews_per_genre</th>\n",
       "      <th>mean_score_by_genre</th>\n",
       "    </tr>\n",
       "  </thead>\n",
       "  <tbody>\n",
       "    <tr>\n",
       "      <th>0</th>\n",
       "      <td>rock</td>\n",
       "      <td>9438</td>\n",
       "      <td>6.942011</td>\n",
       "    </tr>\n",
       "    <tr>\n",
       "      <th>1</th>\n",
       "      <td>electronic</td>\n",
       "      <td>3874</td>\n",
       "      <td>6.920702</td>\n",
       "    </tr>\n",
       "    <tr>\n",
       "      <th>2</th>\n",
       "      <td>None</td>\n",
       "      <td>2371</td>\n",
       "      <td>7.017925</td>\n",
       "    </tr>\n",
       "    <tr>\n",
       "      <th>3</th>\n",
       "      <td>experimental</td>\n",
       "      <td>1815</td>\n",
       "      <td>7.336694</td>\n",
       "    </tr>\n",
       "    <tr>\n",
       "      <th>4</th>\n",
       "      <td>rap</td>\n",
       "      <td>1559</td>\n",
       "      <td>6.900513</td>\n",
       "    </tr>\n",
       "    <tr>\n",
       "      <th>5</th>\n",
       "      <td>pop/r&amp;b</td>\n",
       "      <td>1432</td>\n",
       "      <td>6.883799</td>\n",
       "    </tr>\n",
       "    <tr>\n",
       "      <th>6</th>\n",
       "      <td>metal</td>\n",
       "      <td>862</td>\n",
       "      <td>6.950000</td>\n",
       "    </tr>\n",
       "    <tr>\n",
       "      <th>7</th>\n",
       "      <td>folk/country</td>\n",
       "      <td>685</td>\n",
       "      <td>7.202190</td>\n",
       "    </tr>\n",
       "    <tr>\n",
       "      <th>8</th>\n",
       "      <td>jazz</td>\n",
       "      <td>435</td>\n",
       "      <td>7.303908</td>\n",
       "    </tr>\n",
       "    <tr>\n",
       "      <th>9</th>\n",
       "      <td>global</td>\n",
       "      <td>219</td>\n",
       "      <td>7.429680</td>\n",
       "    </tr>\n",
       "  </tbody>\n",
       "</table>\n",
       "</div>"
      ],
      "text/plain": [
       "          genre  total_reviews_per_genre  mean_score_by_genre\n",
       "0          rock                     9438             6.942011\n",
       "1    electronic                     3874             6.920702\n",
       "2          None                     2371             7.017925\n",
       "3  experimental                     1815             7.336694\n",
       "4           rap                     1559             6.900513\n",
       "5       pop/r&b                     1432             6.883799\n",
       "6         metal                      862             6.950000\n",
       "7  folk/country                      685             7.202190\n",
       "8          jazz                      435             7.303908\n",
       "9        global                      219             7.429680"
      ]
     },
     "execution_count": 18,
     "metadata": {},
     "output_type": "execute_result"
    }
   ],
   "source": [
    "genres_df"
   ]
  },
  {
   "cell_type": "code",
   "execution_count": 19,
   "metadata": {},
   "outputs": [],
   "source": [
    "# ANNUAL mean score and total review count for each genre\n",
    "\n",
    "genres_years_df1 = pd.read_sql_query(\"SELECT genres.genre, reviews.pub_year, \\\n",
    "                                AVG(reviews.score) as genre_year_avg_score, \\\n",
    "                                count(reviews.reviewid) as  genre_year_total_reviews \\\n",
    "                                FROM reviews INNER JOIN genres ON genres.reviewid=reviews.reviewid \\\n",
    "                                WHERE genres.genre IS NOT NULL \\\n",
    "                                GROUP BY genres.genre, reviews.pub_year \\\n",
    "                                ORDER BY genre, pub_year\", con)"
   ]
  },
  {
   "cell_type": "code",
   "execution_count": 20,
   "metadata": {},
   "outputs": [
    {
     "data": {
      "text/html": [
       "<div>\n",
       "<style scoped>\n",
       "    .dataframe tbody tr th:only-of-type {\n",
       "        vertical-align: middle;\n",
       "    }\n",
       "\n",
       "    .dataframe tbody tr th {\n",
       "        vertical-align: top;\n",
       "    }\n",
       "\n",
       "    .dataframe thead th {\n",
       "        text-align: right;\n",
       "    }\n",
       "</style>\n",
       "<table border=\"1\" class=\"dataframe\">\n",
       "  <thead>\n",
       "    <tr style=\"text-align: right;\">\n",
       "      <th></th>\n",
       "      <th>genre</th>\n",
       "      <th>pub_year</th>\n",
       "      <th>genre_year_avg_score</th>\n",
       "      <th>genre_year_total_reviews</th>\n",
       "    </tr>\n",
       "  </thead>\n",
       "  <tbody>\n",
       "    <tr>\n",
       "      <th>0</th>\n",
       "      <td>electronic</td>\n",
       "      <td>1999</td>\n",
       "      <td>6.797101</td>\n",
       "      <td>69</td>\n",
       "    </tr>\n",
       "    <tr>\n",
       "      <th>1</th>\n",
       "      <td>electronic</td>\n",
       "      <td>2000</td>\n",
       "      <td>7.120000</td>\n",
       "      <td>80</td>\n",
       "    </tr>\n",
       "    <tr>\n",
       "      <th>2</th>\n",
       "      <td>electronic</td>\n",
       "      <td>2001</td>\n",
       "      <td>6.923232</td>\n",
       "      <td>99</td>\n",
       "    </tr>\n",
       "    <tr>\n",
       "      <th>3</th>\n",
       "      <td>electronic</td>\n",
       "      <td>2002</td>\n",
       "      <td>6.958947</td>\n",
       "      <td>190</td>\n",
       "    </tr>\n",
       "    <tr>\n",
       "      <th>4</th>\n",
       "      <td>electronic</td>\n",
       "      <td>2003</td>\n",
       "      <td>6.863158</td>\n",
       "      <td>266</td>\n",
       "    </tr>\n",
       "    <tr>\n",
       "      <th>...</th>\n",
       "      <td>...</td>\n",
       "      <td>...</td>\n",
       "      <td>...</td>\n",
       "      <td>...</td>\n",
       "    </tr>\n",
       "    <tr>\n",
       "      <th>162</th>\n",
       "      <td>rock</td>\n",
       "      <td>2013</td>\n",
       "      <td>7.017184</td>\n",
       "      <td>483</td>\n",
       "    </tr>\n",
       "    <tr>\n",
       "      <th>163</th>\n",
       "      <td>rock</td>\n",
       "      <td>2014</td>\n",
       "      <td>7.061165</td>\n",
       "      <td>412</td>\n",
       "    </tr>\n",
       "    <tr>\n",
       "      <th>164</th>\n",
       "      <td>rock</td>\n",
       "      <td>2015</td>\n",
       "      <td>6.969565</td>\n",
       "      <td>437</td>\n",
       "    </tr>\n",
       "    <tr>\n",
       "      <th>165</th>\n",
       "      <td>rock</td>\n",
       "      <td>2016</td>\n",
       "      <td>7.282217</td>\n",
       "      <td>433</td>\n",
       "    </tr>\n",
       "    <tr>\n",
       "      <th>166</th>\n",
       "      <td>rock</td>\n",
       "      <td>2017</td>\n",
       "      <td>8.150000</td>\n",
       "      <td>2</td>\n",
       "    </tr>\n",
       "  </tbody>\n",
       "</table>\n",
       "<p>167 rows × 4 columns</p>\n",
       "</div>"
      ],
      "text/plain": [
       "          genre  pub_year  genre_year_avg_score  genre_year_total_reviews\n",
       "0    electronic      1999              6.797101                        69\n",
       "1    electronic      2000              7.120000                        80\n",
       "2    electronic      2001              6.923232                        99\n",
       "3    electronic      2002              6.958947                       190\n",
       "4    electronic      2003              6.863158                       266\n",
       "..          ...       ...                   ...                       ...\n",
       "162        rock      2013              7.017184                       483\n",
       "163        rock      2014              7.061165                       412\n",
       "164        rock      2015              6.969565                       437\n",
       "165        rock      2016              7.282217                       433\n",
       "166        rock      2017              8.150000                         2\n",
       "\n",
       "[167 rows x 4 columns]"
      ]
     },
     "execution_count": 20,
     "metadata": {},
     "output_type": "execute_result"
    }
   ],
   "source": [
    "genres_years_df1"
   ]
  },
  {
   "cell_type": "code",
   "execution_count": 21,
   "metadata": {},
   "outputs": [
    {
     "data": {
      "image/png": "[encoded data removed]",
      "text/plain": [
       "<Figure size 432x288 with 1 Axes>"
      ]
     },
     "metadata": {
      "needs_background": "light"
     },
     "output_type": "display_data"
    }
   ],
   "source": [
    "# extremely messy viz of genre ratings over the years\n",
    "\n",
    "for x in genres_df.genre:\n",
    "    sns.lineplot(genres_years_df1[genres_years_df1.genre==x].pub_year, genres_years_df1.genre_year_avg_score, label=x)"
   ]
  },
  {
   "cell_type": "code",
   "execution_count": 22,
   "metadata": {},
   "outputs": [
    {
     "data": {
      "text/plain": [
       "[[1999, 'rock'],\n",
       " [2000, 'rock'],\n",
       " [2001, 'rock'],\n",
       " [2002, 'rock'],\n",
       " [2003, 'rock'],\n",
       " [2004, 'rock'],\n",
       " [2005, 'rock'],\n",
       " [2006, 'rock'],\n",
       " [2007, 'rock'],\n",
       " [2008, 'rock'],\n",
       " [2009, 'rock'],\n",
       " [2010, 'rock'],\n",
       " [2011, 'rock'],\n",
       " [2012, 'rock'],\n",
       " [2013, 'rock'],\n",
       " [2014, 'rock'],\n",
       " [2015, 'rock'],\n",
       " [2016, 'rock'],\n",
       " [2017, 'rap']]"
      ]
     },
     "execution_count": 22,
     "metadata": {},
     "output_type": "execute_result"
    }
   ],
   "source": [
    "# top reviewed genre for each year\n",
    "\n",
    "total_reviews_genre_year = []\n",
    "\n",
    "for i in range(1999, 2018):\n",
    "    query = (\"SELECT reviews.pub_year, genres.genre, \\\n",
    "                                    AVG(reviews.score) as genre_year_avg_score, \\\n",
    "                                    COUNT(reviews.reviewid) as genre_year_total_reviews \\\n",
    "                                    FROM reviews INNER JOIN genres ON genres.reviewid=reviews.reviewid \\\n",
    "                                    WHERE genres.genre IS NOT NULL AND pub_year IS {} \\\n",
    "                                    GROUP BY reviews.pub_year, genres.genre \\\n",
    "                                    ORDER BY genre_year_total_reviews DESC \\\n",
    "                                    LIMIT 1\".format(i))\n",
    "    \n",
    "    yearly_df = pd.read_sql_query(query, con)\n",
    "    \n",
    "    total_reviews_genre_year.append([i, yearly_df.genre[0]])\n",
    "\n",
    "total_reviews_genre_year"
   ]
  },
  {
   "cell_type": "code",
   "execution_count": 23,
   "metadata": {},
   "outputs": [
    {
     "data": {
      "text/plain": [
       "18389"
      ]
     },
     "execution_count": 23,
     "metadata": {},
     "output_type": "execute_result"
    }
   ],
   "source": [
    "main_df_raw = pd.read_sql_query((\"SELECT DISTINCT reviews.score,  reviews.artist, reviews.title, \\\n",
    "                        reviews.best_new_music, reviews.pub_date, reviews.pub_year, \\\n",
    "                        years.year, genres.genre, labels.label, reviews.author, reviews.reviewid\\\n",
    "                        FROM reviews \\\n",
    "                        INNER JOIN genres ON reviews.reviewid = genres.reviewid \\\n",
    "                        INNER JOIN years ON reviews.reviewid = years.reviewid \\\n",
    "                        INNER JOIN  labels ON reviews.reviewid = labels.reviewid \\\n",
    "                        GROUP BY reviews.reviewid\"), \n",
    "                           con, \n",
    "                           #index_col='reviewid',\n",
    "                           parse_dates={'reviews.pub_date':'%Y-%m-%d'})\n",
    "len(main_df_raw)"
   ]
  },
  {
   "cell_type": "markdown",
   "metadata": {},
   "source": [
    "**Missing Data**\n",
    "\n",
    "* GENRE missing for ~2k rows, impute with 'OTHER' for now. \n",
    "\n",
    "* YEAR is release year, PUB_YEAR is review year  \n",
    "\n",
    "    * IMPUTE NAN YEAR with PUB_YEAR  \n",
    "    \n",
    "    * ENGINEER A FEATURE of diff btw YEAR & PUB_YEAR\n",
    "\n",
    "\n",
    "\n",
    "* LABEL missing for a ~200 rows. May not even use this so DO NOTHING for now. "
   ]
  },
  {
   "cell_type": "code",
   "execution_count": 24,
   "metadata": {},
   "outputs": [
    {
     "name": "stdout",
     "output_type": "stream",
     "text": [
      "<class 'pandas.core.frame.DataFrame'>\n",
      "RangeIndex: 18389 entries, 0 to 18388\n",
      "Data columns (total 11 columns):\n",
      " #   Column          Non-Null Count  Dtype  \n",
      "---  ------          --------------  -----  \n",
      " 0   score           18389 non-null  float64\n",
      " 1   artist          18389 non-null  object \n",
      " 2   title           18389 non-null  object \n",
      " 3   best_new_music  18389 non-null  int64  \n",
      " 4   pub_date        18389 non-null  object \n",
      " 5   pub_year        18389 non-null  int64  \n",
      " 6   year            17983 non-null  float64\n",
      " 7   genre           16024 non-null  object \n",
      " 8   label           18351 non-null  object \n",
      " 9   author          18389 non-null  object \n",
      " 10  reviewid        18389 non-null  int64  \n",
      "dtypes: float64(2), int64(3), object(6)\n",
      "memory usage: 1.5+ MB\n"
     ]
    }
   ],
   "source": [
    "main_df_raw.info()"
   ]
  },
  {
   "cell_type": "code",
   "execution_count": 25,
   "metadata": {},
   "outputs": [
    {
     "data": {
      "text/html": [
       "<div>\n",
       "<style scoped>\n",
       "    .dataframe tbody tr th:only-of-type {\n",
       "        vertical-align: middle;\n",
       "    }\n",
       "\n",
       "    .dataframe tbody tr th {\n",
       "        vertical-align: top;\n",
       "    }\n",
       "\n",
       "    .dataframe thead th {\n",
       "        text-align: right;\n",
       "    }\n",
       "</style>\n",
       "<table border=\"1\" class=\"dataframe\">\n",
       "  <thead>\n",
       "    <tr style=\"text-align: right;\">\n",
       "      <th></th>\n",
       "      <th>score</th>\n",
       "      <th>best_new_music</th>\n",
       "      <th>pub_year</th>\n",
       "      <th>year</th>\n",
       "      <th>reviewid</th>\n",
       "    </tr>\n",
       "  </thead>\n",
       "  <tbody>\n",
       "    <tr>\n",
       "      <th>count</th>\n",
       "      <td>18389.000000</td>\n",
       "      <td>18389.000000</td>\n",
       "      <td>18389.000000</td>\n",
       "      <td>17983.000000</td>\n",
       "      <td>18389.000000</td>\n",
       "    </tr>\n",
       "    <tr>\n",
       "      <th>mean</th>\n",
       "      <td>7.005715</td>\n",
       "      <td>0.051281</td>\n",
       "      <td>2008.679047</td>\n",
       "      <td>2007.834010</td>\n",
       "      <td>12345.501822</td>\n",
       "    </tr>\n",
       "    <tr>\n",
       "      <th>std</th>\n",
       "      <td>1.293758</td>\n",
       "      <td>0.220576</td>\n",
       "      <td>4.626428</td>\n",
       "      <td>6.707638</td>\n",
       "      <td>6319.402584</td>\n",
       "    </tr>\n",
       "    <tr>\n",
       "      <th>min</th>\n",
       "      <td>0.000000</td>\n",
       "      <td>0.000000</td>\n",
       "      <td>1999.000000</td>\n",
       "      <td>1959.000000</td>\n",
       "      <td>1.000000</td>\n",
       "    </tr>\n",
       "    <tr>\n",
       "      <th>25%</th>\n",
       "      <td>6.400000</td>\n",
       "      <td>0.000000</td>\n",
       "      <td>2005.000000</td>\n",
       "      <td>2005.000000</td>\n",
       "      <td>7444.000000</td>\n",
       "    </tr>\n",
       "    <tr>\n",
       "      <th>50%</th>\n",
       "      <td>7.200000</td>\n",
       "      <td>0.000000</td>\n",
       "      <td>2009.000000</td>\n",
       "      <td>2008.000000</td>\n",
       "      <td>12806.000000</td>\n",
       "    </tr>\n",
       "    <tr>\n",
       "      <th>75%</th>\n",
       "      <td>7.800000</td>\n",
       "      <td>0.000000</td>\n",
       "      <td>2013.000000</td>\n",
       "      <td>2012.000000</td>\n",
       "      <td>17659.000000</td>\n",
       "    </tr>\n",
       "    <tr>\n",
       "      <th>max</th>\n",
       "      <td>10.000000</td>\n",
       "      <td>1.000000</td>\n",
       "      <td>2017.000000</td>\n",
       "      <td>2017.000000</td>\n",
       "      <td>22745.000000</td>\n",
       "    </tr>\n",
       "  </tbody>\n",
       "</table>\n",
       "</div>"
      ],
      "text/plain": [
       "              score  best_new_music      pub_year          year      reviewid\n",
       "count  18389.000000    18389.000000  18389.000000  17983.000000  18389.000000\n",
       "mean       7.005715        0.051281   2008.679047   2007.834010  12345.501822\n",
       "std        1.293758        0.220576      4.626428      6.707638   6319.402584\n",
       "min        0.000000        0.000000   1999.000000   1959.000000      1.000000\n",
       "25%        6.400000        0.000000   2005.000000   2005.000000   7444.000000\n",
       "50%        7.200000        0.000000   2009.000000   2008.000000  12806.000000\n",
       "75%        7.800000        0.000000   2013.000000   2012.000000  17659.000000\n",
       "max       10.000000        1.000000   2017.000000   2017.000000  22745.000000"
      ]
     },
     "execution_count": 25,
     "metadata": {},
     "output_type": "execute_result"
    }
   ],
   "source": [
    "# stats for all music combined\n",
    "\n",
    "main_df_raw.describe()"
   ]
  },
  {
   "cell_type": "code",
   "execution_count": 26,
   "metadata": {},
   "outputs": [
    {
     "data": {
      "text/html": [
       "<div>\n",
       "<style scoped>\n",
       "    .dataframe tbody tr th:only-of-type {\n",
       "        vertical-align: middle;\n",
       "    }\n",
       "\n",
       "    .dataframe tbody tr th {\n",
       "        vertical-align: top;\n",
       "    }\n",
       "\n",
       "    .dataframe thead th {\n",
       "        text-align: right;\n",
       "    }\n",
       "</style>\n",
       "<table border=\"1\" class=\"dataframe\">\n",
       "  <thead>\n",
       "    <tr style=\"text-align: right;\">\n",
       "      <th></th>\n",
       "      <th>score</th>\n",
       "      <th>best_new_music</th>\n",
       "      <th>pub_year</th>\n",
       "      <th>year</th>\n",
       "      <th>reviewid</th>\n",
       "    </tr>\n",
       "  </thead>\n",
       "  <tbody>\n",
       "    <tr>\n",
       "      <th>count</th>\n",
       "      <td>943.000000</td>\n",
       "      <td>943.0</td>\n",
       "      <td>943.000000</td>\n",
       "      <td>942.000000</td>\n",
       "      <td>943.000000</td>\n",
       "    </tr>\n",
       "    <tr>\n",
       "      <th>mean</th>\n",
       "      <td>8.676458</td>\n",
       "      <td>1.0</td>\n",
       "      <td>2010.702015</td>\n",
       "      <td>2006.801486</td>\n",
       "      <td>14868.567338</td>\n",
       "    </tr>\n",
       "    <tr>\n",
       "      <th>std</th>\n",
       "      <td>0.496161</td>\n",
       "      <td>0.0</td>\n",
       "      <td>3.792000</td>\n",
       "      <td>9.884986</td>\n",
       "      <td>5589.857177</td>\n",
       "    </tr>\n",
       "    <tr>\n",
       "      <th>min</th>\n",
       "      <td>3.500000</td>\n",
       "      <td>1.0</td>\n",
       "      <td>2003.000000</td>\n",
       "      <td>1959.000000</td>\n",
       "      <td>81.000000</td>\n",
       "    </tr>\n",
       "    <tr>\n",
       "      <th>25%</th>\n",
       "      <td>8.400000</td>\n",
       "      <td>1.0</td>\n",
       "      <td>2008.000000</td>\n",
       "      <td>2005.000000</td>\n",
       "      <td>12340.000000</td>\n",
       "    </tr>\n",
       "    <tr>\n",
       "      <th>50%</th>\n",
       "      <td>8.600000</td>\n",
       "      <td>1.0</td>\n",
       "      <td>2011.000000</td>\n",
       "      <td>2010.000000</td>\n",
       "      <td>15811.000000</td>\n",
       "    </tr>\n",
       "    <tr>\n",
       "      <th>75%</th>\n",
       "      <td>8.900000</td>\n",
       "      <td>1.0</td>\n",
       "      <td>2014.000000</td>\n",
       "      <td>2013.000000</td>\n",
       "      <td>19252.500000</td>\n",
       "    </tr>\n",
       "    <tr>\n",
       "      <th>max</th>\n",
       "      <td>10.000000</td>\n",
       "      <td>1.0</td>\n",
       "      <td>2017.000000</td>\n",
       "      <td>2016.000000</td>\n",
       "      <td>22745.000000</td>\n",
       "    </tr>\n",
       "  </tbody>\n",
       "</table>\n",
       "</div>"
      ],
      "text/plain": [
       "            score  best_new_music     pub_year         year      reviewid\n",
       "count  943.000000           943.0   943.000000   942.000000    943.000000\n",
       "mean     8.676458             1.0  2010.702015  2006.801486  14868.567338\n",
       "std      0.496161             0.0     3.792000     9.884986   5589.857177\n",
       "min      3.500000             1.0  2003.000000  1959.000000     81.000000\n",
       "25%      8.400000             1.0  2008.000000  2005.000000  12340.000000\n",
       "50%      8.600000             1.0  2011.000000  2010.000000  15811.000000\n",
       "75%      8.900000             1.0  2014.000000  2013.000000  19252.500000\n",
       "max     10.000000             1.0  2017.000000  2016.000000  22745.000000"
      ]
     },
     "execution_count": 26,
     "metadata": {},
     "output_type": "execute_result"
    }
   ],
   "source": [
    "# stats for BEST NEW MUSIC\n",
    "# LOOK INTO WHY SOME BEST NEW MUSIC HAD VERY LOW SCORE (25% QUARTILE)\n",
    "\n",
    "main_df_raw[main_df_raw.best_new_music == 1].describe()"
   ]
  },
  {
   "cell_type": "code",
   "execution_count": 27,
   "metadata": {},
   "outputs": [
    {
     "data": {
      "image/png": "[encoded data removed]",
      "text/plain": [
       "<Figure size 576x576 with 2 Axes>"
      ]
     },
     "metadata": {
      "needs_background": "light"
     },
     "output_type": "display_data"
    }
   ],
   "source": [
    "# examining dist of review scores\n",
    "\n",
    "plt.figure(figsize=(8,8))\n",
    "plt.suptitle('Review Score Distribution')\n",
    "plt.subplot(2, 1, 1)\n",
    "sns.distplot(main_df_raw.score)\n",
    "plt.subplot(2, 1, 2)\n",
    "sns.boxplot(main_df_raw.score);\n",
    "\n",
    "# skewed left"
   ]
  },
  {
   "cell_type": "code",
   "execution_count": 28,
   "metadata": {},
   "outputs": [],
   "source": [
    "# Closing the connection\n",
    "\n",
    "con.close()"
   ]
  },
  {
   "cell_type": "markdown",
   "metadata": {},
   "source": [
    "## Cleaning and Feature Engineering"
   ]
  },
  {
   "cell_type": "markdown",
   "metadata": {},
   "source": [
    "### Saving raw df as csv"
   ]
  },
  {
   "cell_type": "code",
   "execution_count": 29,
   "metadata": {},
   "outputs": [],
   "source": [
    "main_df_raw.to_csv('data/pitchfork_data_raw.csv')"
   ]
  },
  {
   "cell_type": "markdown",
   "metadata": {},
   "source": [
    "### Making copy to clean"
   ]
  },
  {
   "cell_type": "code",
   "execution_count": 30,
   "metadata": {},
   "outputs": [],
   "source": [
    "main_df_clean = main_df_raw"
   ]
  },
  {
   "cell_type": "markdown",
   "metadata": {},
   "source": [
    "### Imputing null year values "
   ]
  },
  {
   "cell_type": "code",
   "execution_count": 31,
   "metadata": {},
   "outputs": [
    {
     "data": {
      "text/plain": [
       "score                                       6.8\n",
       "artist                          the anniversary\n",
       "title             designing a nervous breakdown\n",
       "best_new_music                                0\n",
       "pub_date                             2000-01-25\n",
       "pub_year                                   2000\n",
       "year                                        NaN\n",
       "genre                                      rock\n",
       "label                                   vagrant\n",
       "author                          taylor m. clark\n",
       "reviewid                                    199\n",
       "Name: 122, dtype: object"
      ]
     },
     "execution_count": 31,
     "metadata": {},
     "output_type": "execute_result"
    }
   ],
   "source": [
    "main_df_raw.iloc[122]"
   ]
  },
  {
   "cell_type": "code",
   "execution_count": 32,
   "metadata": {},
   "outputs": [],
   "source": [
    "main_df_clean.year.fillna(main_df_clean.pub_year, inplace=True)"
   ]
  },
  {
   "cell_type": "code",
   "execution_count": 33,
   "metadata": {},
   "outputs": [
    {
     "data": {
      "text/html": [
       "<div>\n",
       "<style scoped>\n",
       "    .dataframe tbody tr th:only-of-type {\n",
       "        vertical-align: middle;\n",
       "    }\n",
       "\n",
       "    .dataframe tbody tr th {\n",
       "        vertical-align: top;\n",
       "    }\n",
       "\n",
       "    .dataframe thead th {\n",
       "        text-align: right;\n",
       "    }\n",
       "</style>\n",
       "<table border=\"1\" class=\"dataframe\">\n",
       "  <thead>\n",
       "    <tr style=\"text-align: right;\">\n",
       "      <th></th>\n",
       "      <th>score</th>\n",
       "      <th>artist</th>\n",
       "      <th>title</th>\n",
       "      <th>best_new_music</th>\n",
       "      <th>pub_date</th>\n",
       "      <th>pub_year</th>\n",
       "      <th>year</th>\n",
       "      <th>genre</th>\n",
       "      <th>label</th>\n",
       "      <th>author</th>\n",
       "      <th>reviewid</th>\n",
       "    </tr>\n",
       "  </thead>\n",
       "  <tbody>\n",
       "  </tbody>\n",
       "</table>\n",
       "</div>"
      ],
      "text/plain": [
       "Empty DataFrame\n",
       "Columns: [score, artist, title, best_new_music, pub_date, pub_year, year, genre, label, author, reviewid]\n",
       "Index: []"
      ]
     },
     "execution_count": 33,
     "metadata": {},
     "output_type": "execute_result"
    }
   ],
   "source": [
    "main_df_clean[main_df_clean.year.isnull()].head()"
   ]
  },
  {
   "cell_type": "code",
   "execution_count": 34,
   "metadata": {},
   "outputs": [
    {
     "data": {
      "text/plain": [
       "score                                       6.8\n",
       "artist                          the anniversary\n",
       "title             designing a nervous breakdown\n",
       "best_new_music                                0\n",
       "pub_date                             2000-01-25\n",
       "pub_year                                   2000\n",
       "year                                       2000\n",
       "genre                                      rock\n",
       "label                                   vagrant\n",
       "author                          taylor m. clark\n",
       "reviewid                                    199\n",
       "Name: 122, dtype: object"
      ]
     },
     "execution_count": 34,
     "metadata": {},
     "output_type": "execute_result"
    }
   ],
   "source": [
    "# null was imputed with pub_year\n",
    "\n",
    "main_df_clean.iloc[122]"
   ]
  },
  {
   "cell_type": "markdown",
   "metadata": {},
   "source": [
    "### Adding column for release-publish year difference"
   ]
  },
  {
   "cell_type": "code",
   "execution_count": 35,
   "metadata": {},
   "outputs": [],
   "source": [
    "main_df_clean['review_delay'] = main_df_clean.pub_year - main_df_clean.year"
   ]
  },
  {
   "cell_type": "code",
   "execution_count": 36,
   "metadata": {},
   "outputs": [
    {
     "data": {
      "image/png": "[encoded data removed]",
      "text/plain": [
       "<Figure size 432x288 with 1 Axes>"
      ]
     },
     "metadata": {
      "needs_background": "light"
     },
     "output_type": "display_data"
    }
   ],
   "source": [
    "# visualizing review delay\n",
    "\n",
    "plt.hist(main_df_clean[main_df_clean.review_delay > 1].review_delay)\n",
    "plt.suptitle('Distribution of delayed reviews')\n",
    "plt.xlabel('Delay btw release and review (yrs)')\n",
    "plt.ylabel('Frequency')\n",
    "plt.savefig('viz/release_delay.svg');"
   ]
  },
  {
   "cell_type": "markdown",
   "metadata": {},
   "source": [
    "Not pictured: the majority of data where there was no delay between release and review.   \n",
    "\n",
    "I chose delay > 1 year since some normally timed reviews fall on either side of the calendar year.\n"
   ]
  },
  {
   "cell_type": "markdown",
   "metadata": {},
   "source": [
    "### Imputing missing genre"
   ]
  },
  {
   "cell_type": "code",
   "execution_count": 180,
   "metadata": {},
   "outputs": [],
   "source": [
    "main_df_clean.genre.fillna('Other', inplace=True)"
   ]
  },
  {
   "cell_type": "code",
   "execution_count": 184,
   "metadata": {},
   "outputs": [
    {
     "data": {
      "text/plain": [
       "2365"
      ]
     },
     "execution_count": 184,
     "metadata": {},
     "output_type": "execute_result"
    }
   ],
   "source": [
    "# number of 'other' genre albums\n",
    "\n",
    "len(main_df_clean[main_df_clean.genre=='Other'])"
   ]
  },
  {
   "cell_type": "markdown",
   "metadata": {},
   "source": [
    "### Investigate missing label"
   ]
  },
  {
   "cell_type": "code",
   "execution_count": 188,
   "metadata": {},
   "outputs": [
    {
     "data": {
      "text/plain": [
       "38"
      ]
     },
     "execution_count": 188,
     "metadata": {},
     "output_type": "execute_result"
    }
   ],
   "source": [
    "len(main_df_clean[main_df_clean.label.isnull()])"
   ]
  },
  {
   "cell_type": "code",
   "execution_count": 199,
   "metadata": {},
   "outputs": [
    {
     "data": {
      "text/plain": [
       "16327    None\n",
       "Name: label, dtype: object"
      ]
     },
     "execution_count": 199,
     "metadata": {},
     "output_type": "execute_result"
    }
   ],
   "source": [
    "main_df_clean[main_df_clean.label.isnull()].label.sample()"
   ]
  },
  {
   "cell_type": "code",
   "execution_count": 196,
   "metadata": {},
   "outputs": [
    {
     "data": {
      "text/plain": [
       "score                          8\n",
       "artist               joey bada$$\n",
       "title                       1999\n",
       "best_new_music                 0\n",
       "pub_date              2012-06-26\n",
       "pub_year                    2012\n",
       "year                        2012\n",
       "genre                        rap\n",
       "label                       None\n",
       "author            felipe delerme\n",
       "reviewid                   16864\n",
       "review_delay                   0\n",
       "Name: 13125, dtype: object"
      ]
     },
     "execution_count": 196,
     "metadata": {},
     "output_type": "execute_result"
    }
   ],
   "source": [
    "main_df_clean.iloc[13125]"
   ]
  },
  {
   "cell_type": "markdown",
   "metadata": {},
   "source": [
    "After a brief investigation, I found that \"None\" here does not necessarily mean the artist was unsigned at the time of the release/review (Joey Bada$$ was signed to [Datpiff](https://pitchfork.com/reviews/albums/16864-1999/) for this mixtape)"
   ]
  },
  {
   "cell_type": "markdown",
   "metadata": {},
   "source": [
    "### Renaming columns for readability"
   ]
  },
  {
   "cell_type": "code",
   "execution_count": 202,
   "metadata": {},
   "outputs": [
    {
     "data": {
      "text/plain": [
       "Index(['score', 'artist', 'title', 'best_new_music', 'pub_date', 'pub_year',\n",
       "       'year', 'genre', 'label', 'author', 'reviewid', 'review_delay'],\n",
       "      dtype='object')"
      ]
     },
     "execution_count": 202,
     "metadata": {},
     "output_type": "execute_result"
    }
   ],
   "source": [
    "main_df_clean.columns"
   ]
  },
  {
   "cell_type": "code",
   "execution_count": 207,
   "metadata": {},
   "outputs": [],
   "source": [
    "main_df_clean.rename(columns={'title':'album_title', \n",
    "                              'author':'review_author', \n",
    "                              'score':'album_review_score', \n",
    "                              'year':'album_release_year', \n",
    "                              'pub_year':'review_pub_year', \n",
    "                              'genre':'album_genre', \n",
    "                              'pub_date':'review_pub_date'}, \n",
    "                     inplace=True)"
   ]
  },
  {
   "cell_type": "markdown",
   "metadata": {},
   "source": [
    "### Adding Column to feed to Spotify API"
   ]
  },
  {
   "cell_type": "markdown",
   "metadata": {},
   "source": [
    "Putting album title and artist in a format Spotify API can easily ingest"
   ]
  },
  {
   "cell_type": "code",
   "execution_count": 228,
   "metadata": {},
   "outputs": [
    {
     "data": {
      "text/plain": [
       "0                             young forever, aberfeldy\n",
       "1                       pure tone audiometry, aarktica\n",
       "2    or you could just go through your whole life a...\n",
       "3                             bleeding light, aarktica\n",
       "4                                           abcs, abcs\n",
       "Name: api_formatted, dtype: object"
      ]
     },
     "execution_count": 228,
     "metadata": {},
     "output_type": "execute_result"
    }
   ],
   "source": [
    "main_df_clean['api_formatted'] = main_df_clean.album_title + ', ' + main_df_clean.artist\n",
    "main_df_clean.api_formatted.head()"
   ]
  },
  {
   "cell_type": "markdown",
   "metadata": {},
   "source": [
    "### Saving clean df as csv"
   ]
  },
  {
   "cell_type": "code",
   "execution_count": 229,
   "metadata": {},
   "outputs": [],
   "source": [
    "main_df_clean.to_csv('data/pitchfork_data_clean.csv')"
   ]
  },
  {
   "cell_type": "code",
   "execution_count": 231,
   "metadata": {},
   "outputs": [
    {
     "data": {
      "text/html": [
       "<div>\n",
       "<style scoped>\n",
       "    .dataframe tbody tr th:only-of-type {\n",
       "        vertical-align: middle;\n",
       "    }\n",
       "\n",
       "    .dataframe tbody tr th {\n",
       "        vertical-align: top;\n",
       "    }\n",
       "\n",
       "    .dataframe thead th {\n",
       "        text-align: right;\n",
       "    }\n",
       "</style>\n",
       "<table border=\"1\" class=\"dataframe\">\n",
       "  <thead>\n",
       "    <tr style=\"text-align: right;\">\n",
       "      <th></th>\n",
       "      <th>album_review_score</th>\n",
       "      <th>artist</th>\n",
       "      <th>album_title</th>\n",
       "      <th>best_new_music</th>\n",
       "      <th>review_pub_date</th>\n",
       "      <th>review_pub_year</th>\n",
       "      <th>album_release_year</th>\n",
       "      <th>album_genre</th>\n",
       "      <th>label</th>\n",
       "      <th>review_author</th>\n",
       "      <th>reviewid</th>\n",
       "      <th>review_delay</th>\n",
       "      <th>api_formatted</th>\n",
       "    </tr>\n",
       "  </thead>\n",
       "  <tbody>\n",
       "    <tr>\n",
       "      <th>0</th>\n",
       "      <td>3.4</td>\n",
       "      <td>aberfeldy</td>\n",
       "      <td>young forever</td>\n",
       "      <td>0</td>\n",
       "      <td>2004-08-30</td>\n",
       "      <td>2004</td>\n",
       "      <td>2004.0</td>\n",
       "      <td>rock</td>\n",
       "      <td>rough trade</td>\n",
       "      <td>marc hogan</td>\n",
       "      <td>1</td>\n",
       "      <td>0.0</td>\n",
       "      <td>young forever, aberfeldy</td>\n",
       "    </tr>\n",
       "    <tr>\n",
       "      <th>1</th>\n",
       "      <td>7.4</td>\n",
       "      <td>aarktica</td>\n",
       "      <td>pure tone audiometry</td>\n",
       "      <td>0</td>\n",
       "      <td>2003-04-08</td>\n",
       "      <td>2003</td>\n",
       "      <td>2003.0</td>\n",
       "      <td>electronic</td>\n",
       "      <td>silber</td>\n",
       "      <td>eric carr</td>\n",
       "      <td>6</td>\n",
       "      <td>0.0</td>\n",
       "      <td>pure tone audiometry, aarktica</td>\n",
       "    </tr>\n",
       "    <tr>\n",
       "      <th>2</th>\n",
       "      <td>8.1</td>\n",
       "      <td>aarktica</td>\n",
       "      <td>or you could just go through your whole life a...</td>\n",
       "      <td>0</td>\n",
       "      <td>2002-05-16</td>\n",
       "      <td>2002</td>\n",
       "      <td>2002.0</td>\n",
       "      <td>electronic</td>\n",
       "      <td>darla</td>\n",
       "      <td>christopher dare</td>\n",
       "      <td>7</td>\n",
       "      <td>0.0</td>\n",
       "      <td>or you could just go through your whole life a...</td>\n",
       "    </tr>\n",
       "    <tr>\n",
       "      <th>3</th>\n",
       "      <td>7.2</td>\n",
       "      <td>aarktica</td>\n",
       "      <td>bleeding light</td>\n",
       "      <td>0</td>\n",
       "      <td>2005-02-06</td>\n",
       "      <td>2005</td>\n",
       "      <td>2005.0</td>\n",
       "      <td>electronic</td>\n",
       "      <td>darla</td>\n",
       "      <td>sam ubl</td>\n",
       "      <td>8</td>\n",
       "      <td>0.0</td>\n",
       "      <td>bleeding light, aarktica</td>\n",
       "    </tr>\n",
       "    <tr>\n",
       "      <th>4</th>\n",
       "      <td>8.0</td>\n",
       "      <td>abcs</td>\n",
       "      <td>abcs</td>\n",
       "      <td>0</td>\n",
       "      <td>2002-05-07</td>\n",
       "      <td>2002</td>\n",
       "      <td>2002.0</td>\n",
       "      <td>jazz</td>\n",
       "      <td>troubleman unlimited</td>\n",
       "      <td>michael bernstein</td>\n",
       "      <td>10</td>\n",
       "      <td>0.0</td>\n",
       "      <td>abcs, abcs</td>\n",
       "    </tr>\n",
       "    <tr>\n",
       "      <th>...</th>\n",
       "      <td>...</td>\n",
       "      <td>...</td>\n",
       "      <td>...</td>\n",
       "      <td>...</td>\n",
       "      <td>...</td>\n",
       "      <td>...</td>\n",
       "      <td>...</td>\n",
       "      <td>...</td>\n",
       "      <td>...</td>\n",
       "      <td>...</td>\n",
       "      <td>...</td>\n",
       "      <td>...</td>\n",
       "      <td>...</td>\n",
       "    </tr>\n",
       "    <tr>\n",
       "      <th>18384</th>\n",
       "      <td>7.9</td>\n",
       "      <td>krallice</td>\n",
       "      <td>prelapsarian</td>\n",
       "      <td>0</td>\n",
       "      <td>2017-01-07</td>\n",
       "      <td>2017</td>\n",
       "      <td>2016.0</td>\n",
       "      <td>metal</td>\n",
       "      <td>hathenter</td>\n",
       "      <td>zoe camp</td>\n",
       "      <td>22721</td>\n",
       "      <td>1.0</td>\n",
       "      <td>prelapsarian, krallice</td>\n",
       "    </tr>\n",
       "    <tr>\n",
       "      <th>18385</th>\n",
       "      <td>7.4</td>\n",
       "      <td>various artists</td>\n",
       "      <td>insecure (music from the hbo original series)</td>\n",
       "      <td>0</td>\n",
       "      <td>2017-01-05</td>\n",
       "      <td>2017</td>\n",
       "      <td>2016.0</td>\n",
       "      <td>Other</td>\n",
       "      <td>rca</td>\n",
       "      <td>vanessa okoth-obbo</td>\n",
       "      <td>22722</td>\n",
       "      <td>1.0</td>\n",
       "      <td>insecure (music from the hbo original series),...</td>\n",
       "    </tr>\n",
       "    <tr>\n",
       "      <th>18386</th>\n",
       "      <td>5.3</td>\n",
       "      <td>the lox</td>\n",
       "      <td>filthy america its beautiful</td>\n",
       "      <td>0</td>\n",
       "      <td>2017-01-04</td>\n",
       "      <td>2017</td>\n",
       "      <td>2016.0</td>\n",
       "      <td>rap</td>\n",
       "      <td>roc nation</td>\n",
       "      <td>ian cohen</td>\n",
       "      <td>22724</td>\n",
       "      <td>1.0</td>\n",
       "      <td>filthy america its beautiful, the lox</td>\n",
       "    </tr>\n",
       "    <tr>\n",
       "      <th>18387</th>\n",
       "      <td>8.1</td>\n",
       "      <td>taso</td>\n",
       "      <td>new start</td>\n",
       "      <td>0</td>\n",
       "      <td>2017-01-06</td>\n",
       "      <td>2017</td>\n",
       "      <td>2016.0</td>\n",
       "      <td>electronic</td>\n",
       "      <td>teklife</td>\n",
       "      <td>kevin lozano</td>\n",
       "      <td>22725</td>\n",
       "      <td>1.0</td>\n",
       "      <td>new start, taso</td>\n",
       "    </tr>\n",
       "    <tr>\n",
       "      <th>18388</th>\n",
       "      <td>8.6</td>\n",
       "      <td>run the jewels</td>\n",
       "      <td>run the jewels 3</td>\n",
       "      <td>1</td>\n",
       "      <td>2017-01-03</td>\n",
       "      <td>2017</td>\n",
       "      <td>2016.0</td>\n",
       "      <td>rap</td>\n",
       "      <td>self-released</td>\n",
       "      <td>sheldon pearce</td>\n",
       "      <td>22745</td>\n",
       "      <td>1.0</td>\n",
       "      <td>run the jewels 3, run the jewels</td>\n",
       "    </tr>\n",
       "  </tbody>\n",
       "</table>\n",
       "<p>18389 rows × 13 columns</p>\n",
       "</div>"
      ],
      "text/plain": [
       "       album_review_score           artist  \\\n",
       "0                     3.4        aberfeldy   \n",
       "1                     7.4         aarktica   \n",
       "2                     8.1         aarktica   \n",
       "3                     7.2         aarktica   \n",
       "4                     8.0             abcs   \n",
       "...                   ...              ...   \n",
       "18384                 7.9         krallice   \n",
       "18385                 7.4  various artists   \n",
       "18386                 5.3          the lox   \n",
       "18387                 8.1             taso   \n",
       "18388                 8.6   run the jewels   \n",
       "\n",
       "                                             album_title  best_new_music  \\\n",
       "0                                          young forever               0   \n",
       "1                                   pure tone audiometry               0   \n",
       "2      or you could just go through your whole life a...               0   \n",
       "3                                         bleeding light               0   \n",
       "4                                                   abcs               0   \n",
       "...                                                  ...             ...   \n",
       "18384                                       prelapsarian               0   \n",
       "18385      insecure (music from the hbo original series)               0   \n",
       "18386                       filthy america its beautiful               0   \n",
       "18387                                          new start               0   \n",
       "18388                                   run the jewels 3               1   \n",
       "\n",
       "      review_pub_date  review_pub_year  album_release_year album_genre  \\\n",
       "0          2004-08-30             2004              2004.0        rock   \n",
       "1          2003-04-08             2003              2003.0  electronic   \n",
       "2          2002-05-16             2002              2002.0  electronic   \n",
       "3          2005-02-06             2005              2005.0  electronic   \n",
       "4          2002-05-07             2002              2002.0        jazz   \n",
       "...               ...              ...                 ...         ...   \n",
       "18384      2017-01-07             2017              2016.0       metal   \n",
       "18385      2017-01-05             2017              2016.0       Other   \n",
       "18386      2017-01-04             2017              2016.0         rap   \n",
       "18387      2017-01-06             2017              2016.0  electronic   \n",
       "18388      2017-01-03             2017              2016.0         rap   \n",
       "\n",
       "                      label       review_author  reviewid  review_delay  \\\n",
       "0               rough trade          marc hogan         1           0.0   \n",
       "1                    silber           eric carr         6           0.0   \n",
       "2                     darla    christopher dare         7           0.0   \n",
       "3                     darla             sam ubl         8           0.0   \n",
       "4      troubleman unlimited   michael bernstein        10           0.0   \n",
       "...                     ...                 ...       ...           ...   \n",
       "18384             hathenter            zoe camp     22721           1.0   \n",
       "18385                   rca  vanessa okoth-obbo     22722           1.0   \n",
       "18386            roc nation           ian cohen     22724           1.0   \n",
       "18387               teklife        kevin lozano     22725           1.0   \n",
       "18388         self-released      sheldon pearce     22745           1.0   \n",
       "\n",
       "                                           api_formatted  \n",
       "0                               young forever, aberfeldy  \n",
       "1                         pure tone audiometry, aarktica  \n",
       "2      or you could just go through your whole life a...  \n",
       "3                               bleeding light, aarktica  \n",
       "4                                             abcs, abcs  \n",
       "...                                                  ...  \n",
       "18384                             prelapsarian, krallice  \n",
       "18385  insecure (music from the hbo original series),...  \n",
       "18386              filthy america its beautiful, the lox  \n",
       "18387                                    new start, taso  \n",
       "18388                   run the jewels 3, run the jewels  \n",
       "\n",
       "[18389 rows x 13 columns]"
      ]
     },
     "execution_count": 231,
     "metadata": {},
     "output_type": "execute_result"
    }
   ],
   "source": [
    "main_df_clean"
   ]
  },
  {
   "cell_type": "code",
   "execution_count": null,
   "metadata": {},
   "outputs": [],
   "source": []
  }
 ],
 "metadata": {
  "kernelspec": {
   "display_name": "Python 3",
   "language": "python",
   "name": "python3"
  },
  "language_info": {
   "codemirror_mode": {
    "name": "ipython",
    "version": 3
   },
   "file_extension": ".py",
   "mimetype": "text/x-python",
   "name": "python",
   "nbconvert_exporter": "python",
   "pygments_lexer": "ipython3",
   "version": "3.7.6"
  }
 },
 "nbformat": 4,
 "nbformat_minor": 4
}
