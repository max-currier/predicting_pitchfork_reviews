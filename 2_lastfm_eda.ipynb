{
 "cells": [
  {
   "cell_type": "markdown",
   "metadata": {},
   "source": [
    "# Last.fm Data"
   ]
  },
  {
   "cell_type": "markdown",
   "metadata": {},
   "source": [
    "Now that I have all of the Pitchfork data, I will supplement it with artist-level data from Last.fm."
   ]
  },
  {
   "cell_type": "code",
   "execution_count": 3,
   "metadata": {},
   "outputs": [],
   "source": [
    "# necessary imports\n",
    "\n",
    "import pandas as pd\n",
    "import numpy as np"
   ]
  },
  {
   "cell_type": "code",
   "execution_count": 71,
   "metadata": {},
   "outputs": [
    {
     "name": "stderr",
     "output_type": "stream",
     "text": [
      "/Users/max/anaconda3/lib/python3.7/site-packages/IPython/core/interactiveshell.py:3063: DtypeWarning: Columns (2,4,6) have mixed types.Specify dtype option on import or set low_memory=False.\n",
      "  interactivity=interactivity, compiler=compiler, result=result)\n"
     ]
    }
   ],
   "source": [
    "# reading in data\n",
    "artists_df = pd.read_csv('data/artists.csv')"
   ]
  },
  {
   "cell_type": "code",
   "execution_count": 72,
   "metadata": {},
   "outputs": [
    {
     "name": "stdout",
     "output_type": "stream",
     "text": [
      "<class 'pandas.core.frame.DataFrame'>\n",
      "RangeIndex: 1466083 entries, 0 to 1466082\n",
      "Data columns (total 10 columns):\n",
      " #   Column            Non-Null Count    Dtype  \n",
      "---  ------            --------------    -----  \n",
      " 0   mbid              1466083 non-null  object \n",
      " 1   artist_mb         1466075 non-null  object \n",
      " 2   artist_lastfm     986756 non-null   object \n",
      " 3   country_mb        662368 non-null   object \n",
      " 4   country_lastfm    211498 non-null   object \n",
      " 5   tags_mb           119946 non-null   object \n",
      " 6   tags_lastfm       381075 non-null   object \n",
      " 7   listeners_lastfm  986760 non-null   float64\n",
      " 8   scrobbles_lastfm  986760 non-null   float64\n",
      " 9   ambiguous_artist  1466083 non-null  bool   \n",
      "dtypes: bool(1), float64(2), object(7)\n",
      "memory usage: 102.1+ MB\n"
     ]
    }
   ],
   "source": [
    "# it's big!\n",
    "\n",
    "artists_df.info()"
   ]
  },
  {
   "cell_type": "code",
   "execution_count": null,
   "metadata": {},
   "outputs": [],
   "source": [
    "artists_df.describe()"
   ]
  },
  {
   "cell_type": "code",
   "execution_count": 8,
   "metadata": {},
   "outputs": [],
   "source": [
    "# creating a subset to look at\n",
    "\n",
    "artists_sample1000_df = artists_df.sample(10000)"
   ]
  },
  {
   "cell_type": "code",
   "execution_count": 11,
   "metadata": {},
   "outputs": [
    {
     "data": {
      "text/html": [
       "<div>\n",
       "<style scoped>\n",
       "    .dataframe tbody tr th:only-of-type {\n",
       "        vertical-align: middle;\n",
       "    }\n",
       "\n",
       "    .dataframe tbody tr th {\n",
       "        vertical-align: top;\n",
       "    }\n",
       "\n",
       "    .dataframe thead th {\n",
       "        text-align: right;\n",
       "    }\n",
       "</style>\n",
       "<table border=\"1\" class=\"dataframe\">\n",
       "  <thead>\n",
       "    <tr style=\"text-align: right;\">\n",
       "      <th></th>\n",
       "      <th>listeners_lastfm</th>\n",
       "      <th>scrobbles_lastfm</th>\n",
       "    </tr>\n",
       "  </thead>\n",
       "  <tbody>\n",
       "    <tr>\n",
       "      <th>count</th>\n",
       "      <td>6.804000e+03</td>\n",
       "      <td>6.804000e+03</td>\n",
       "    </tr>\n",
       "    <tr>\n",
       "      <th>mean</th>\n",
       "      <td>6.022656e+03</td>\n",
       "      <td>9.831119e+04</td>\n",
       "    </tr>\n",
       "    <tr>\n",
       "      <th>std</th>\n",
       "      <td>4.181354e+04</td>\n",
       "      <td>9.214826e+05</td>\n",
       "    </tr>\n",
       "    <tr>\n",
       "      <th>min</th>\n",
       "      <td>0.000000e+00</td>\n",
       "      <td>0.000000e+00</td>\n",
       "    </tr>\n",
       "    <tr>\n",
       "      <th>25%</th>\n",
       "      <td>1.000000e+01</td>\n",
       "      <td>4.200000e+01</td>\n",
       "    </tr>\n",
       "    <tr>\n",
       "      <th>50%</th>\n",
       "      <td>9.400000e+01</td>\n",
       "      <td>5.740000e+02</td>\n",
       "    </tr>\n",
       "    <tr>\n",
       "      <th>75%</th>\n",
       "      <td>8.732500e+02</td>\n",
       "      <td>6.155750e+03</td>\n",
       "    </tr>\n",
       "    <tr>\n",
       "      <th>max</th>\n",
       "      <td>1.143047e+06</td>\n",
       "      <td>3.240806e+07</td>\n",
       "    </tr>\n",
       "  </tbody>\n",
       "</table>\n",
       "</div>"
      ],
      "text/plain": [
       "       listeners_lastfm  scrobbles_lastfm\n",
       "count      6.804000e+03      6.804000e+03\n",
       "mean       6.022656e+03      9.831119e+04\n",
       "std        4.181354e+04      9.214826e+05\n",
       "min        0.000000e+00      0.000000e+00\n",
       "25%        1.000000e+01      4.200000e+01\n",
       "50%        9.400000e+01      5.740000e+02\n",
       "75%        8.732500e+02      6.155750e+03\n",
       "max        1.143047e+06      3.240806e+07"
      ]
     },
     "execution_count": 11,
     "metadata": {},
     "output_type": "execute_result"
    }
   ],
   "source": [
    "artists_sample1000_df.describe()"
   ]
  },
  {
   "cell_type": "code",
   "execution_count": null,
   "metadata": {},
   "outputs": [],
   "source": []
  },
  {
   "cell_type": "code",
   "execution_count": 14,
   "metadata": {},
   "outputs": [
    {
     "data": {
      "text/plain": [
       "Index(['mbid', 'artist_mb', 'artist_lastfm', 'country_mb', 'country_lastfm',\n",
       "       'tags_mb', 'tags_lastfm', 'listeners_lastfm', 'scrobbles_lastfm',\n",
       "       'ambiguous_artist'],\n",
       "      dtype='object')"
      ]
     },
     "execution_count": 14,
     "metadata": {},
     "output_type": "execute_result"
    }
   ],
   "source": [
    "artists_df.columns"
   ]
  },
  {
   "cell_type": "code",
   "execution_count": 15,
   "metadata": {},
   "outputs": [
    {
     "data": {
      "text/plain": [
       "United States     165623\n",
       "United Kingdom     71405\n",
       "Germany            51645\n",
       "Japan              46324\n",
       "France             32179\n",
       "                   ...  \n",
       "Nauru                  1\n",
       "Niue                   1\n",
       "Kiribati               1\n",
       "Tokelau                1\n",
       "Tuvalu                 1\n",
       "Name: country_mb, Length: 223, dtype: int64"
      ]
     },
     "execution_count": 15,
     "metadata": {},
     "output_type": "execute_result"
    }
   ],
   "source": [
    "# comparing two country columns\n",
    "\n",
    "artists_df.country_mb.value_counts().head()"
   ]
  },
  {
   "cell_type": "code",
   "execution_count": 16,
   "metadata": {},
   "outputs": [
    {
     "data": {
      "text/plain": [
       "United States                                  25999\n",
       "United Kingdom                                 13994\n",
       "Japan                                          12769\n",
       "Germany                                        12258\n",
       "France                                          8493\n",
       "                                               ...  \n",
       "Austria; Iran                                      1\n",
       "Mozambique; United States                          1\n",
       "Bosnia and Herzegovina; Peru; United States        1\n",
       "Australia; France; Poland                          1\n",
       "France; Norway; Sweden; United States              1\n",
       "Name: country_lastfm, Length: 8120, dtype: int64"
      ]
     },
     "execution_count": 16,
     "metadata": {},
     "output_type": "execute_result"
    }
   ],
   "source": [
    "artists_df.country_lastfm.value_counts().head()"
   ]
  },
  {
   "cell_type": "code",
   "execution_count": 18,
   "metadata": {},
   "outputs": [],
   "source": [
    "# subset of just US artists\n",
    "\n",
    "artists_us_df = artists_df[artists_df.country_mb == 'United States']"
   ]
  },
  {
   "cell_type": "markdown",
   "metadata": {},
   "source": [
    "## Cleaning"
   ]
  },
  {
   "cell_type": "markdown",
   "metadata": {},
   "source": [
    "### Duplicate artist names"
   ]
  },
  {
   "cell_type": "code",
   "execution_count": 73,
   "metadata": {},
   "outputs": [
    {
     "data": {
      "text/plain": [
       "Vortex            83\n",
       "Moloch            76\n",
       "Darkness          68\n",
       "Sol               58\n",
       "Amok              49\n",
       "                  ..\n",
       "Jordan Perlson     1\n",
       "Bergtatt           1\n",
       "digidigi66         1\n",
       "Reviver Gene       1\n",
       "山崎まさよし             1\n",
       "Name: artist_mb, Length: 1352996, dtype: int64"
      ]
     },
     "execution_count": 73,
     "metadata": {},
     "output_type": "execute_result"
    }
   ],
   "source": [
    "# many duplicate names, soem in special characters, all in title caps\n",
    "\n",
    "artists_df.artist_mb.value_counts()"
   ]
  },
  {
   "cell_type": "code",
   "execution_count": 74,
   "metadata": {},
   "outputs": [],
   "source": [
    "# changing to lower case \n",
    "\n",
    "artists_df['artist_mb_clean'] = artists_df['artist_mb'].astype(str).str.lower()"
   ]
  },
  {
   "cell_type": "code",
   "execution_count": 75,
   "metadata": {},
   "outputs": [
    {
     "data": {
      "text/html": [
       "<div>\n",
       "<style scoped>\n",
       "    .dataframe tbody tr th:only-of-type {\n",
       "        vertical-align: middle;\n",
       "    }\n",
       "\n",
       "    .dataframe tbody tr th {\n",
       "        vertical-align: top;\n",
       "    }\n",
       "\n",
       "    .dataframe thead th {\n",
       "        text-align: right;\n",
       "    }\n",
       "</style>\n",
       "<table border=\"1\" class=\"dataframe\">\n",
       "  <thead>\n",
       "    <tr style=\"text-align: right;\">\n",
       "      <th></th>\n",
       "      <th>mbid</th>\n",
       "      <th>artist_mb</th>\n",
       "      <th>artist_lastfm</th>\n",
       "      <th>country_mb</th>\n",
       "      <th>country_lastfm</th>\n",
       "      <th>tags_mb</th>\n",
       "      <th>tags_lastfm</th>\n",
       "      <th>listeners_lastfm</th>\n",
       "      <th>scrobbles_lastfm</th>\n",
       "      <th>ambiguous_artist</th>\n",
       "      <th>artist_mb_clean</th>\n",
       "    </tr>\n",
       "  </thead>\n",
       "  <tbody>\n",
       "    <tr>\n",
       "      <th>69675</th>\n",
       "      <td>8294c83d-f358-4e39-b6e6-70ec197aa587</td>\n",
       "      <td>Moloch</td>\n",
       "      <td>Moloch</td>\n",
       "      <td>United States</td>\n",
       "      <td>Brazil; Israel; Poland; Ukraine; United Kingdo...</td>\n",
       "      <td>NaN</td>\n",
       "      <td>black metal; Sludge; dark ambient; raw black m...</td>\n",
       "      <td>9782.0</td>\n",
       "      <td>144936.0</td>\n",
       "      <td>True</td>\n",
       "      <td>moloch</td>\n",
       "    </tr>\n",
       "    <tr>\n",
       "      <th>69676</th>\n",
       "      <td>818ef79c-7777-4c78-8cae-41f6a33abe23</td>\n",
       "      <td>Moloch</td>\n",
       "      <td>Moloch</td>\n",
       "      <td>United Kingdom</td>\n",
       "      <td>Brazil; Israel; Poland; Ukraine; United Kingdo...</td>\n",
       "      <td>NaN</td>\n",
       "      <td>black metal; Sludge; dark ambient; raw black m...</td>\n",
       "      <td>9782.0</td>\n",
       "      <td>144936.0</td>\n",
       "      <td>True</td>\n",
       "      <td>moloch</td>\n",
       "    </tr>\n",
       "    <tr>\n",
       "      <th>69677</th>\n",
       "      <td>515cf468-8640-4742-be60-3dda5f298823</td>\n",
       "      <td>Moloch</td>\n",
       "      <td>Moloch</td>\n",
       "      <td>Ukraine</td>\n",
       "      <td>Brazil; Israel; Poland; Ukraine; United Kingdo...</td>\n",
       "      <td>black metal</td>\n",
       "      <td>black metal; Sludge; dark ambient; raw black m...</td>\n",
       "      <td>9782.0</td>\n",
       "      <td>144936.0</td>\n",
       "      <td>True</td>\n",
       "      <td>moloch</td>\n",
       "    </tr>\n",
       "  </tbody>\n",
       "</table>\n",
       "</div>"
      ],
      "text/plain": [
       "                                       mbid artist_mb artist_lastfm  \\\n",
       "69675  8294c83d-f358-4e39-b6e6-70ec197aa587    Moloch        Moloch   \n",
       "69676  818ef79c-7777-4c78-8cae-41f6a33abe23    Moloch        Moloch   \n",
       "69677  515cf468-8640-4742-be60-3dda5f298823    Moloch        Moloch   \n",
       "\n",
       "           country_mb                                     country_lastfm  \\\n",
       "69675   United States  Brazil; Israel; Poland; Ukraine; United Kingdo...   \n",
       "69676  United Kingdom  Brazil; Israel; Poland; Ukraine; United Kingdo...   \n",
       "69677         Ukraine  Brazil; Israel; Poland; Ukraine; United Kingdo...   \n",
       "\n",
       "           tags_mb                                        tags_lastfm  \\\n",
       "69675          NaN  black metal; Sludge; dark ambient; raw black m...   \n",
       "69676          NaN  black metal; Sludge; dark ambient; raw black m...   \n",
       "69677  black metal  black metal; Sludge; dark ambient; raw black m...   \n",
       "\n",
       "       listeners_lastfm  scrobbles_lastfm  ambiguous_artist artist_mb_clean  \n",
       "69675            9782.0          144936.0              True          moloch  \n",
       "69676            9782.0          144936.0              True          moloch  \n",
       "69677            9782.0          144936.0              True          moloch  "
      ]
     },
     "execution_count": 75,
     "metadata": {},
     "output_type": "execute_result"
    }
   ],
   "source": [
    "# duplicates across countries with dupe or null listen/scrobbles. \n",
    "# we can aggregate globally and take first row\n",
    "\n",
    "artists_df[artists_df.artist_mb == 'Moloch'].head(3)"
   ]
  },
  {
   "cell_type": "code",
   "execution_count": 76,
   "metadata": {},
   "outputs": [],
   "source": [
    "# sorting by artist and listens and dropping duplicates\n",
    "\n",
    "artists_df_clean = artists_df.sort_values(by=['artist_mb_clean','listeners_lastfm'], ascending=False)\n",
    "artists_df_clean = artists_df_clean.drop_duplicates(keep='first', subset=['artist_mb_clean'])"
   ]
  },
  {
   "cell_type": "code",
   "execution_count": 77,
   "metadata": {},
   "outputs": [
    {
     "data": {
      "text/plain": [
       "mattias bergqvist     1\n",
       "star tatooed & ava    1\n",
       "a sorrowful dream     1\n",
       "kenneth lovelace      1\n",
       "the dirty royals      1\n",
       "                     ..\n",
       "zendad                1\n",
       "senor goofy           1\n",
       "nicole meyer          1\n",
       "javier vega           1\n",
       "山崎まさよし                1\n",
       "Name: artist_mb_clean, Length: 1345381, dtype: int64"
      ]
     },
     "execution_count": 77,
     "metadata": {},
     "output_type": "execute_result"
    }
   ],
   "source": [
    "# no more duplicate names\n",
    "\n",
    "artists_df_clean.artist_mb_clean.value_counts()"
   ]
  },
  {
   "cell_type": "code",
   "execution_count": 78,
   "metadata": {},
   "outputs": [
    {
     "data": {
      "text/html": [
       "<div>\n",
       "<style scoped>\n",
       "    .dataframe tbody tr th:only-of-type {\n",
       "        vertical-align: middle;\n",
       "    }\n",
       "\n",
       "    .dataframe tbody tr th {\n",
       "        vertical-align: top;\n",
       "    }\n",
       "\n",
       "    .dataframe thead th {\n",
       "        text-align: right;\n",
       "    }\n",
       "</style>\n",
       "<table border=\"1\" class=\"dataframe\">\n",
       "  <thead>\n",
       "    <tr style=\"text-align: right;\">\n",
       "      <th></th>\n",
       "      <th>mbid</th>\n",
       "      <th>artist_mb</th>\n",
       "      <th>artist_lastfm</th>\n",
       "      <th>country_mb</th>\n",
       "      <th>country_lastfm</th>\n",
       "      <th>tags_mb</th>\n",
       "      <th>tags_lastfm</th>\n",
       "      <th>listeners_lastfm</th>\n",
       "      <th>scrobbles_lastfm</th>\n",
       "      <th>ambiguous_artist</th>\n",
       "      <th>artist_mb_clean</th>\n",
       "    </tr>\n",
       "  </thead>\n",
       "  <tbody>\n",
       "    <tr>\n",
       "      <th>69675</th>\n",
       "      <td>8294c83d-f358-4e39-b6e6-70ec197aa587</td>\n",
       "      <td>Moloch</td>\n",
       "      <td>Moloch</td>\n",
       "      <td>United States</td>\n",
       "      <td>Brazil; Israel; Poland; Ukraine; United Kingdo...</td>\n",
       "      <td>NaN</td>\n",
       "      <td>black metal; Sludge; dark ambient; raw black m...</td>\n",
       "      <td>9782.0</td>\n",
       "      <td>144936.0</td>\n",
       "      <td>True</td>\n",
       "      <td>moloch</td>\n",
       "    </tr>\n",
       "  </tbody>\n",
       "</table>\n",
       "</div>"
      ],
      "text/plain": [
       "                                       mbid artist_mb artist_lastfm  \\\n",
       "69675  8294c83d-f358-4e39-b6e6-70ec197aa587    Moloch        Moloch   \n",
       "\n",
       "          country_mb                                     country_lastfm  \\\n",
       "69675  United States  Brazil; Israel; Poland; Ukraine; United Kingdo...   \n",
       "\n",
       "      tags_mb                                        tags_lastfm  \\\n",
       "69675     NaN  black metal; Sludge; dark ambient; raw black m...   \n",
       "\n",
       "       listeners_lastfm  scrobbles_lastfm  ambiguous_artist artist_mb_clean  \n",
       "69675            9782.0          144936.0              True          moloch  "
      ]
     },
     "execution_count": 78,
     "metadata": {},
     "output_type": "execute_result"
    }
   ],
   "source": [
    "artists_df_clean[artists_df_clean['artist_mb'] == 'Moloch']"
   ]
  },
  {
   "cell_type": "code",
   "execution_count": 79,
   "metadata": {},
   "outputs": [
    {
     "name": "stdout",
     "output_type": "stream",
     "text": [
      "(1466083, 11)\n"
     ]
    },
    {
     "data": {
      "text/plain": [
       "(1345381, 11)"
      ]
     },
     "execution_count": 79,
     "metadata": {},
     "output_type": "execute_result"
    }
   ],
   "source": [
    "# consolidated >100k rows\n",
    "\n",
    "print(artists_df.shape)\n",
    "artists_df_clean.shape"
   ]
  },
  {
   "cell_type": "code",
   "execution_count": 7,
   "metadata": {},
   "outputs": [
    {
     "ename": "NameError",
     "evalue": "name 'artists_df_clean' is not defined",
     "output_type": "error",
     "traceback": [
      "\u001b[0;31m---------------------------------------------------------------------------\u001b[0m",
      "\u001b[0;31mNameError\u001b[0m                                 Traceback (most recent call last)",
      "\u001b[0;32m<ipython-input-7-3d2a50f5334c>\u001b[0m in \u001b[0;36m<module>\u001b[0;34m\u001b[0m\n\u001b[1;32m      1\u001b[0m \u001b[0;31m# saving clean lastfm df as a csv\u001b[0m\u001b[0;34m\u001b[0m\u001b[0;34m\u001b[0m\u001b[0;34m\u001b[0m\u001b[0m\n\u001b[1;32m      2\u001b[0m \u001b[0;34m\u001b[0m\u001b[0m\n\u001b[0;32m----> 3\u001b[0;31m \u001b[0martists_df_clean\u001b[0m\u001b[0;34m.\u001b[0m\u001b[0mto_csv\u001b[0m\u001b[0;34m(\u001b[0m\u001b[0;34m'data/lastfm_data_clean.csv'\u001b[0m\u001b[0;34m)\u001b[0m\u001b[0;34m\u001b[0m\u001b[0;34m\u001b[0m\u001b[0m\n\u001b[0m",
      "\u001b[0;31mNameError\u001b[0m: name 'artists_df_clean' is not defined"
     ]
    }
   ],
   "source": [
    "# saving clean lastfm df as a csv\n",
    "\n",
    "artists_df_clean.to_csv('data/lastfm_data_clean.csv')"
   ]
  },
  {
   "cell_type": "code",
   "execution_count": null,
   "metadata": {},
   "outputs": [],
   "source": []
  },
  {
   "cell_type": "markdown",
   "metadata": {},
   "source": [
    "## Matching with Pitchfork Data"
   ]
  },
  {
   "cell_type": "code",
   "execution_count": 8,
   "metadata": {},
   "outputs": [
    {
     "name": "stderr",
     "output_type": "stream",
     "text": [
      "/Users/max/anaconda3/lib/python3.7/site-packages/numpy/lib/arraysetops.py:569: FutureWarning: elementwise comparison failed; returning scalar instead, but in the future will perform elementwise comparison\n",
      "  mask |= (ar1 == a)\n"
     ]
    }
   ],
   "source": [
    "# loading pitchfork data\n",
    "\n",
    "pitchfork_df = pd.read_csv('data/pitchfork_data_clean.csv', index_col = 0)\n",
    "artists_df_clean = pd.read_csv('data/lastfm_data_clean.csv', index_col = 0)"
   ]
  },
  {
   "cell_type": "code",
   "execution_count": 5,
   "metadata": {},
   "outputs": [
    {
     "data": {
      "text/plain": [
       "(18389, 13)"
      ]
     },
     "execution_count": 5,
     "metadata": {},
     "output_type": "execute_result"
    }
   ],
   "source": [
    "pitchfork_df.shape"
   ]
  },
  {
   "cell_type": "code",
   "execution_count": 9,
   "metadata": {},
   "outputs": [],
   "source": [
    "# merging two dfs\n",
    "\n",
    "merged_df = (pitchfork_df.merge(artists_df_clean, \n",
    "                                how='left', \n",
    "                                left_on='artist', \n",
    "                                right_on='artist_mb_clean'))"
   ]
  },
  {
   "cell_type": "code",
   "execution_count": 10,
   "metadata": {},
   "outputs": [
    {
     "data": {
      "text/plain": [
       "18391"
      ]
     },
     "execution_count": 10,
     "metadata": {},
     "output_type": "execute_result"
    }
   ],
   "source": [
    "len(merged_df)"
   ]
  },
  {
   "cell_type": "code",
   "execution_count": 11,
   "metadata": {},
   "outputs": [
    {
     "data": {
      "text/plain": [
       "album_review_score       0\n",
       "artist                   4\n",
       "album_title              3\n",
       "best_new_music           0\n",
       "review_pub_date          0\n",
       "review_pub_year          0\n",
       "album_release_year       0\n",
       "album_genre              0\n",
       "label                   47\n",
       "review_author            0\n",
       "reviewid                 0\n",
       "review_delay             0\n",
       "api_formatted            0\n",
       "mbid                  2452\n",
       "artist_mb             2454\n",
       "artist_lastfm         2603\n",
       "country_mb            4059\n",
       "country_lastfm        6389\n",
       "tags_mb               9080\n",
       "tags_lastfm           3086\n",
       "listeners_lastfm      2602\n",
       "scrobbles_lastfm      2602\n",
       "ambiguous_artist      2452\n",
       "artist_mb_clean       2456\n",
       "dtype: int64"
      ]
     },
     "execution_count": 11,
     "metadata": {},
     "output_type": "execute_result"
    }
   ],
   "source": [
    "# no new nulls\n",
    "\n",
    "merged_df.isnull().sum()"
   ]
  },
  {
   "cell_type": "code",
   "execution_count": 12,
   "metadata": {},
   "outputs": [
    {
     "data": {
      "text/html": [
       "<div>\n",
       "<style scoped>\n",
       "    .dataframe tbody tr th:only-of-type {\n",
       "        vertical-align: middle;\n",
       "    }\n",
       "\n",
       "    .dataframe tbody tr th {\n",
       "        vertical-align: top;\n",
       "    }\n",
       "\n",
       "    .dataframe thead th {\n",
       "        text-align: right;\n",
       "    }\n",
       "</style>\n",
       "<table border=\"1\" class=\"dataframe\">\n",
       "  <thead>\n",
       "    <tr style=\"text-align: right;\">\n",
       "      <th></th>\n",
       "      <th>album_review_score</th>\n",
       "      <th>artist</th>\n",
       "      <th>album_title</th>\n",
       "      <th>best_new_music</th>\n",
       "      <th>review_pub_date</th>\n",
       "      <th>review_pub_year</th>\n",
       "      <th>album_release_year</th>\n",
       "      <th>album_genre</th>\n",
       "      <th>label</th>\n",
       "      <th>review_author</th>\n",
       "      <th>...</th>\n",
       "      <th>artist_mb</th>\n",
       "      <th>artist_lastfm</th>\n",
       "      <th>country_mb</th>\n",
       "      <th>country_lastfm</th>\n",
       "      <th>tags_mb</th>\n",
       "      <th>tags_lastfm</th>\n",
       "      <th>listeners_lastfm</th>\n",
       "      <th>scrobbles_lastfm</th>\n",
       "      <th>ambiguous_artist</th>\n",
       "      <th>artist_mb_clean</th>\n",
       "    </tr>\n",
       "  </thead>\n",
       "  <tbody>\n",
       "    <tr>\n",
       "      <th>0</th>\n",
       "      <td>3.4</td>\n",
       "      <td>aberfeldy</td>\n",
       "      <td>young forever</td>\n",
       "      <td>0</td>\n",
       "      <td>2004-08-30</td>\n",
       "      <td>2004</td>\n",
       "      <td>2004.0</td>\n",
       "      <td>rock</td>\n",
       "      <td>rough trade</td>\n",
       "      <td>marc hogan</td>\n",
       "      <td>...</td>\n",
       "      <td>Aberfeldy</td>\n",
       "      <td>Aberfeldy</td>\n",
       "      <td>United Kingdom</td>\n",
       "      <td>Scotland; United Kingdom</td>\n",
       "      <td>NaN</td>\n",
       "      <td>indie pop; Scottish; indie; twee; seen live; f...</td>\n",
       "      <td>50666.0</td>\n",
       "      <td>707132.0</td>\n",
       "      <td>False</td>\n",
       "      <td>aberfeldy</td>\n",
       "    </tr>\n",
       "    <tr>\n",
       "      <th>1</th>\n",
       "      <td>7.4</td>\n",
       "      <td>aarktica</td>\n",
       "      <td>pure tone audiometry</td>\n",
       "      <td>0</td>\n",
       "      <td>2003-04-08</td>\n",
       "      <td>2003</td>\n",
       "      <td>2003.0</td>\n",
       "      <td>electronic</td>\n",
       "      <td>silber</td>\n",
       "      <td>eric carr</td>\n",
       "      <td>...</td>\n",
       "      <td>Aarktica</td>\n",
       "      <td>Aarktica</td>\n",
       "      <td>United States</td>\n",
       "      <td>United States</td>\n",
       "      <td>NaN</td>\n",
       "      <td>ambient; post-rock; shoegaze; electronic; indi...</td>\n",
       "      <td>36852.0</td>\n",
       "      <td>492264.0</td>\n",
       "      <td>False</td>\n",
       "      <td>aarktica</td>\n",
       "    </tr>\n",
       "    <tr>\n",
       "      <th>2</th>\n",
       "      <td>8.1</td>\n",
       "      <td>aarktica</td>\n",
       "      <td>or you could just go through your whole life a...</td>\n",
       "      <td>0</td>\n",
       "      <td>2002-05-16</td>\n",
       "      <td>2002</td>\n",
       "      <td>2002.0</td>\n",
       "      <td>electronic</td>\n",
       "      <td>darla</td>\n",
       "      <td>christopher dare</td>\n",
       "      <td>...</td>\n",
       "      <td>Aarktica</td>\n",
       "      <td>Aarktica</td>\n",
       "      <td>United States</td>\n",
       "      <td>United States</td>\n",
       "      <td>NaN</td>\n",
       "      <td>ambient; post-rock; shoegaze; electronic; indi...</td>\n",
       "      <td>36852.0</td>\n",
       "      <td>492264.0</td>\n",
       "      <td>False</td>\n",
       "      <td>aarktica</td>\n",
       "    </tr>\n",
       "  </tbody>\n",
       "</table>\n",
       "<p>3 rows × 24 columns</p>\n",
       "</div>"
      ],
      "text/plain": [
       "   album_review_score     artist  \\\n",
       "0                 3.4  aberfeldy   \n",
       "1                 7.4   aarktica   \n",
       "2                 8.1   aarktica   \n",
       "\n",
       "                                         album_title  best_new_music  \\\n",
       "0                                      young forever               0   \n",
       "1                               pure tone audiometry               0   \n",
       "2  or you could just go through your whole life a...               0   \n",
       "\n",
       "  review_pub_date  review_pub_year  album_release_year album_genre  \\\n",
       "0      2004-08-30             2004              2004.0        rock   \n",
       "1      2003-04-08             2003              2003.0  electronic   \n",
       "2      2002-05-16             2002              2002.0  electronic   \n",
       "\n",
       "         label     review_author  ...  artist_mb  artist_lastfm  \\\n",
       "0  rough trade        marc hogan  ...  Aberfeldy      Aberfeldy   \n",
       "1       silber         eric carr  ...   Aarktica       Aarktica   \n",
       "2        darla  christopher dare  ...   Aarktica       Aarktica   \n",
       "\n",
       "       country_mb            country_lastfm tags_mb  \\\n",
       "0  United Kingdom  Scotland; United Kingdom     NaN   \n",
       "1   United States             United States     NaN   \n",
       "2   United States             United States     NaN   \n",
       "\n",
       "                                         tags_lastfm listeners_lastfm  \\\n",
       "0  indie pop; Scottish; indie; twee; seen live; f...          50666.0   \n",
       "1  ambient; post-rock; shoegaze; electronic; indi...          36852.0   \n",
       "2  ambient; post-rock; shoegaze; electronic; indi...          36852.0   \n",
       "\n",
       "  scrobbles_lastfm ambiguous_artist artist_mb_clean  \n",
       "0         707132.0            False       aberfeldy  \n",
       "1         492264.0            False        aarktica  \n",
       "2         492264.0            False        aarktica  \n",
       "\n",
       "[3 rows x 24 columns]"
      ]
     },
     "execution_count": 12,
     "metadata": {},
     "output_type": "execute_result"
    }
   ],
   "source": [
    "merged_df.head(3)"
   ]
  },
  {
   "cell_type": "code",
   "execution_count": 13,
   "metadata": {},
   "outputs": [],
   "source": [
    "# saving merged df as a csv\n",
    "\n",
    "merged_df.to_csv('data/lastfm_data-pitchfork_artists_only.csv')"
   ]
  },
  {
   "cell_type": "markdown",
   "metadata": {},
   "source": [
    "Now that the Pitchfork and Last.fm data is merged, we can move on to getting individual track-level features from Spotify. "
   ]
  },
  {
   "cell_type": "code",
   "execution_count": null,
   "metadata": {},
   "outputs": [],
   "source": []
  }
 ],
 "metadata": {
  "kernelspec": {
   "display_name": "Python 3",
   "language": "python",
   "name": "python3"
  },
  "language_info": {
   "codemirror_mode": {
    "name": "ipython",
    "version": 3
   },
   "file_extension": ".py",
   "mimetype": "text/x-python",
   "name": "python",
   "nbconvert_exporter": "python",
   "pygments_lexer": "ipython3",
   "version": "3.8.4"
  }
 },
 "nbformat": 4,
 "nbformat_minor": 4
}
